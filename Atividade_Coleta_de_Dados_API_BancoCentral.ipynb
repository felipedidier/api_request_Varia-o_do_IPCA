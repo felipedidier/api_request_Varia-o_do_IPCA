{
 "cells": [
  {
   "cell_type": "markdown",
   "metadata": {},
   "source": [
    "## Desafio\n",
    "\n",
    "Criar Key e coletar dados da cotação de dolar no site do Banco Central, utilizando api pública do governo:"
   ]
  },
  {
   "cell_type": "code",
   "execution_count": 61,
   "metadata": {
    "colab": {
     "base_uri": "https://localhost:8080/"
    },
    "id": "5nTg6NaP416t",
    "outputId": "eee47281-170b-49e7-f47f-6812c86369e7"
   },
   "outputs": [],
   "source": [
    "# essa linha importa os recursos\n",
    "## doc requests -  https://docs.python-requests.org/en/latest/user/quickstart/#make-a-request\n",
    "## Postman\n",
    "\n",
    "import pandas as pd\n",
    "import json, requests\n",
    "\n",
    "api_bcb = 'http://api.bcb.gov.br/dados/serie/bcdata.sgs.4466/dados?formato=json&dataInicial=01/01/2000&dataFinal=31/12/2016'"
   ]
  },
  {
   "cell_type": "code",
   "execution_count": 62,
   "metadata": {},
   "outputs": [
    {
     "name": "stdout",
     "output_type": "stream",
     "text": [
      "<Response [200]>\n"
     ]
    }
   ],
   "source": [
    "result = requests.get(api_bcb)\n",
    "print(result)"
   ]
  },
  {
   "cell_type": "code",
   "execution_count": 63,
   "metadata": {
    "colab": {
     "base_uri": "https://localhost:8080/",
     "height": 69
    },
    "id": "tDSQyj6rh0L4",
    "outputId": "b72a8271-4cd9-4032-e77a-c018412d4d78"
   },
   "outputs": [
    {
     "data": {
      "text/plain": [
       "'[{\"data\":\"01/01/2000\",\"valor\":\"0.48\"},{\"data\":\"01/02/2000\",\"valor\":\"0.44\"},{\"data\":\"01/03/2000\",\"valor\":\"0.37\"},{\"data\":\"01/04/2000\",\"valor\":\"0.45\"},{\"data\":\"01/05/2000\",\"valor\":\"0.35\"},{\"data\":\"01/06/2000\",\"valor\":\"0.42\"},{\"data\":\"01/07/2000\",\"valor\":\"0.58\"},{\"data\":\"01/08/2000\",\"valor\":\"0.58\"},{\"data\":\"01/09/2000\",\"valor\":\"0.40\"},{\"data\":\"01/10/2000\",\"valor\":\"0.40\"},{\"data\":\"01/11/2000\",\"valor\":\"0.30\"},{\"data\":\"01/12/2000\",\"valor\":\"0.36\"},{\"data\":\"01/01/2001\",\"valor\":\"0.41\"},{\"data\":\"01/02/2001\",\"valor\":\"0.52\"},{\"data\":\"01/03/2001\",\"valor\":\"0.57\"},{\"data\":\"01/04/2001\",\"valor\":\"0.46\"},{\"data\":\"01/05/2001\",\"valor\":\"0.60\"},{\"data\":\"01/06/2001\",\"valor\":\"0.73\"},{\"data\":\"01/07/2001\",\"valor\":\"0.65\"},{\"data\":\"01/08/2001\",\"valor\":\"0.56\"},{\"data\":\"01/09/2001\",\"valor\":\"0.57\"},{\"data\":\"01/10/2001\",\"valor\":\"0.57\"},{\"data\":\"01/11/2001\",\"valor\":\"0.77\"},{\"data\":\"01/12/2001\",\"valor\":\"0.78\"},{\"data\":\"01/01/2002\",\"valor\":\"0.52\"},{\"data\":\"01/02/2002\",\"valor\":\"0.54\"},{\"data\":\"01/03/2002\",\"valor\":\"0.58\"},{\"data\":\"01/04/2002\",\"valor\":\"0.56\"},{\"data\":\"01/05/2002\",\"valor\":\"0.51\"},{\"data\":\"01/06/2002\",\"valor\":\"0.40\"},{\"data\":\"01/07/2002\",\"valor\":\"0.51\"},{\"data\":\"01/08/2002\",\"valor\":\"0.65\"},{\"data\":\"01/09/2002\",\"valor\":\"0.78\"},{\"data\":\"01/10/2002\",\"valor\":\"0.78\"},{\"data\":\"01/11/2002\",\"valor\":\"1.32\"},{\"data\":\"01/12/2002\",\"valor\":\"1.36\"},{\"data\":\"01/01/2003\",\"valor\":\"1.32\"},{\"data\":\"01/02/2003\",\"valor\":\"0.93\"},{\"data\":\"01/03/2003\",\"valor\":\"1.23\"},{\"data\":\"01/04/2003\",\"valor\":\"1.10\"},{\"data\":\"01/05/2003\",\"valor\":\"1.00\"},{\"data\":\"01/06/2003\",\"valor\":\"0.87\"},{\"data\":\"01/07/2003\",\"valor\":\"0.65\"},{\"data\":\"01/08/2003\",\"valor\":\"0.58\"},{\"data\":\"01/09/2003\",\"valor\":\"0.86\"},{\"data\":\"01/10/2003\",\"valor\":\"0.77\"},{\"data\":\"01/11/2003\",\"valor\":\"0.56\"},{\"data\":\"01/12/2003\",\"valor\":\"0.72\"},{\"data\":\"01/01/2004\",\"valor\":\"0.73\"},{\"data\":\"01/02/2004\",\"valor\":\"0.48\"},{\"data\":\"01/03/2004\",\"valor\":\"0.76\"},{\"data\":\"01/04/2004\",\"valor\":\"0.57\"},{\"data\":\"01/05/2004\",\"valor\":\"0.59\"},{\"data\":\"01/06/2004\",\"valor\":\"0.60\"},{\"data\":\"01/07/2004\",\"valor\":\"0.55\"},{\"data\":\"01/08/2004\",\"valor\":\"0.55\"},{\"data\":\"01/09/2004\",\"valor\":\"0.56\"},{\"data\":\"01/10/2004\",\"valor\":\"0.60\"},{\"data\":\"01/11/2004\",\"valor\":\"0.62\"},{\"data\":\"01/12/2004\",\"valor\":\"0.67\"},{\"data\":\"01/01/2005\",\"valor\":\"0.66\"},{\"data\":\"01/02/2005\",\"valor\":\"0.60\"},{\"data\":\"01/03/2005\",\"valor\":\"0.62\"},{\"data\":\"01/04/2005\",\"valor\":\"0.70\"},{\"data\":\"01/05/2005\",\"valor\":\"0.65\"},{\"data\":\"01/06/2005\",\"valor\":\"0.49\"},{\"data\":\"01/07/2005\",\"valor\":\"0.45\"},{\"data\":\"01/08/2005\",\"valor\":\"0.36\"},{\"data\":\"01/09/2005\",\"valor\":\"0.51\"},{\"data\":\"01/10/2005\",\"valor\":\"0.58\"},{\"data\":\"01/11/2005\",\"valor\":\"0.51\"},{\"data\":\"01/12/2005\",\"valor\":\"0.43\"},{\"data\":\"01/01/2006\",\"valor\":\"0.61\"},{\"data\":\"01/02/2006\",\"valor\":\"0.49\"},{\"data\":\"01/03/2006\",\"valor\":\"0.45\"},{\"data\":\"01/04/2006\",\"valor\":\"0.41\"},{\"data\":\"01/05/2006\",\"valor\":\"0.47\"},{\"data\":\"01/06/2006\",\"valor\":\"0.30\"},{\"data\":\"01/07/2006\",\"valor\":\"0.29\"},{\"data\":\"01/08/2006\",\"valor\":\"0.23\"},{\"data\":\"01/09/2006\",\"valor\":\"0.32\"},{\"data\":\"01/10/2006\",\"valor\":\"0.32\"},{\"data\":\"01/11/2006\",\"valor\":\"0.27\"},{\"data\":\"01/12/2006\",\"valor\":\"0.38\"},{\"data\":\"01/01/2007\",\"valor\":\"0.39\"},{\"data\":\"01/02/2007\",\"valor\":\"0.24\"},{\"data\":\"01/03/2007\",\"valor\":\"0.29\"},{\"data\":\"01/04/2007\",\"valor\":\"0.29\"},{\"data\":\"01/05/2007\",\"valor\":\"0.30\"},{\"data\":\"01/06/2007\",\"valor\":\"0.34\"},{\"data\":\"01/07/2007\",\"valor\":\"0.20\"},{\"data\":\"01/08/2007\",\"valor\":\"0.40\"},{\"data\":\"01/09/2007\",\"valor\":\"0.34\"},{\"data\":\"01/10/2007\",\"valor\":\"0.43\"},{\"data\":\"01/11/2007\",\"valor\":\"0.36\"},{\"data\":\"01/12/2007\",\"valor\":\"0.40\"},{\"data\":\"01/01/2008\",\"valor\":\"0.37\"},{\"data\":\"01/02/2008\",\"valor\":\"0.27\"},{\"data\":\"01/03/2008\",\"valor\":\"0.39\"},{\"data\":\"01/04/2008\",\"valor\":\"0.48\"},{\"data\":\"01/05/2008\",\"valor\":\"0.50\"},{\"data\":\"01/06/2008\",\"valor\":\"0.49\"},{\"data\":\"01/07/2008\",\"valor\":\"0.36\"},{\"data\":\"01/08/2008\",\"valor\":\"0.36\"},{\"data\":\"01/09/2008\",\"valor\":\"0.45\"},{\"data\":\"01/10/2008\",\"valor\":\"0.37\"},{\"data\":\"01/11/2008\",\"valor\":\"0.35\"},{\"data\":\"01/12/2008\",\"valor\":\"0.33\"},{\"data\":\"01/01/2009\",\"valor\":\"0.42\"},{\"data\":\"01/02/2009\",\"valor\":\"0.29\"},{\"data\":\"01/03/2009\",\"valor\":\"0.35\"},{\"data\":\"01/04/2009\",\"valor\":\"0.35\"},{\"data\":\"01/05/2009\",\"valor\":\"0.44\"},{\"data\":\"01/06/2009\",\"valor\":\"0.38\"},{\"data\":\"01/07/2009\",\"valor\":\"0.30\"},{\"data\":\"01/08/2009\",\"valor\":\"0.25\"},{\"data\":\"01/09/2009\",\"valor\":\"0.39\"},{\"data\":\"01/10/2009\",\"valor\":\"0.31\"},{\"data\":\"01/11/2009\",\"valor\":\"0.39\"},{\"data\":\"01/12/2009\",\"valor\":\"0.42\"},{\"data\":\"01/01/2010\",\"valor\":\"0.48\"},{\"data\":\"01/02/2010\",\"valor\":\"0.39\"},{\"data\":\"01/03/2010\",\"valor\":\"0.46\"},{\"data\":\"01/04/2010\",\"valor\":\"0.50\"},{\"data\":\"01/05/2010\",\"valor\":\"0.62\"},{\"data\":\"01/06/2010\",\"valor\":\"0.40\"},{\"data\":\"01/07/2010\",\"valor\":\"0.25\"},{\"data\":\"01/08/2010\",\"valor\":\"0.33\"},{\"data\":\"01/09/2010\",\"valor\":\"0.43\"},{\"data\":\"01/10/2010\",\"valor\":\"0.55\"},{\"data\":\"01/11/2010\",\"valor\":\"0.56\"},{\"data\":\"01/12/2010\",\"valor\":\"0.52\"},{\"data\":\"01/01/2011\",\"valor\":\"0.54\"},{\"data\":\"01/02/2011\",\"valor\":\"0.40\"},{\"data\":\"01/03/2011\",\"valor\":\"0.49\"},{\"data\":\"01/04/2011\",\"valor\":\"0.60\"},{\"data\":\"01/05/2011\",\"valor\":\"0.64\"},{\"data\":\"01/06/2011\",\"valor\":\"0.54\"},{\"data\":\"01/07/2011\",\"valor\":\"0.41\"},{\"data\":\"01/08/2011\",\"valor\":\"0.55\"},{\"data\":\"01/09/2011\",\"valor\":\"0.58\"},{\"data\":\"01/10/2011\",\"valor\":\"0.59\"},{\"data\":\"01/11/2011\",\"valor\":\"0.55\"},{\"data\":\"01/12/2011\",\"valor\":\"0.58\"},{\"data\":\"01/01/2012\",\"valor\":\"0.47\"},{\"data\":\"01/02/2012\",\"valor\":\"0.41\"},{\"data\":\"01/03/2012\",\"valor\":\"0.28\"},{\"data\":\"01/04/2012\",\"valor\":\"0.51\"},{\"data\":\"01/05/2012\",\"valor\":\"0.45\"},{\"data\":\"01/06/2012\",\"valor\":\"0.39\"},{\"data\":\"01/07/2012\",\"valor\":\"0.40\"},{\"data\":\"01/08/2012\",\"valor\":\"0.50\"},{\"data\":\"01/09/2012\",\"valor\":\"0.49\"},{\"data\":\"01/10/2012\",\"valor\":\"0.54\"},{\"data\":\"01/11/2012\",\"valor\":\"0.49\"},{\"data\":\"01/12/2012\",\"valor\":\"0.56\"},{\"data\":\"01/01/2013\",\"valor\":\"0.73\"},{\"data\":\"01/02/2013\",\"valor\":\"0.53\"},{\"data\":\"01/03/2013\",\"valor\":\"0.47\"},{\"data\":\"01/04/2013\",\"valor\":\"0.53\"},{\"data\":\"01/05/2013\",\"valor\":\"0.52\"},{\"data\":\"01/06/2013\",\"valor\":\"0.36\"},{\"data\":\"01/07/2013\",\"valor\":\"0.29\"},{\"data\":\"01/08/2013\",\"valor\":\"0.42\"},{\"data\":\"01/09/2013\",\"valor\":\"0.43\"},{\"data\":\"01/10/2013\",\"valor\":\"0.58\"},{\"data\":\"01/11/2013\",\"valor\":\"0.45\"},{\"data\":\"01/12/2013\",\"valor\":\"0.58\"},{\"data\":\"01/01/2014\",\"valor\":\"0.55\"},{\"data\":\"01/02/2014\",\"valor\":\"0.51\"},{\"data\":\"01/03/2014\",\"valor\":\"0.59\"},{\"data\":\"01/04/2014\",\"valor\":\"0.56\"},{\"data\":\"01/05/2014\",\"valor\":\"0.64\"},{\"data\":\"01/06/2014\",\"valor\":\"0.56\"},{\"data\":\"01/07/2014\",\"valor\":\"0.35\"},{\"data\":\"01/08/2014\",\"valor\":\"0.40\"},{\"data\":\"01/09/2014\",\"valor\":\"0.54\"},{\"data\":\"01/10/2014\",\"valor\":\"0.51\"},{\"data\":\"01/11/2014\",\"valor\":\"0.38\"},{\"data\":\"01/12/2014\",\"valor\":\"0.49\"},{\"data\":\"01/01/2015\",\"valor\":\"0.74\"},{\"data\":\"01/02/2015\",\"valor\":\"0.77\"},{\"data\":\"01/03/2015\",\"valor\":\"0.76\"},{\"data\":\"01/04/2015\",\"valor\":\"0.72\"},{\"data\":\"01/05/2015\",\"valor\":\"0.75\"},{\"data\":\"01/06/2015\",\"valor\":\"0.72\"},{\"data\":\"01/07/2015\",\"valor\":\"0.67\"},{\"data\":\"01/08/2015\",\"valor\":\"0.56\"},{\"data\":\"01/09/2015\",\"valor\":\"0.64\"},{\"data\":\"01/10/2015\",\"valor\":\"0.66\"},{\"data\":\"01/11/2015\",\"valor\":\"0.75\"},{\"data\":\"01/12/2015\",\"valor\":\"0.79\"},{\"data\":\"01/01/2016\",\"valor\":\"0.84\"},{\"data\":\"01/02/2016\",\"valor\":\"0.73\"},{\"data\":\"01/03/2016\",\"valor\":\"0.61\"},{\"data\":\"01/04/2016\",\"valor\":\"0.67\"},{\"data\":\"01/05/2016\",\"valor\":\"0.73\"},{\"data\":\"01/06/2016\",\"valor\":\"0.59\"},{\"data\":\"01/07/2016\",\"valor\":\"0.51\"},{\"data\":\"01/08/2016\",\"valor\":\"0.55\"},{\"data\":\"01/09/2016\",\"valor\":\"0.34\"},{\"data\":\"01/10/2016\",\"valor\":\"0.40\"},{\"data\":\"01/11/2016\",\"valor\":\"0.39\"},{\"data\":\"01/12/2016\",\"valor\":\"0.37\"}]'"
      ]
     },
     "execution_count": 63,
     "metadata": {},
     "output_type": "execute_result"
    }
   ],
   "source": [
    "result.text"
   ]
  },
  {
   "cell_type": "code",
   "execution_count": 64,
   "metadata": {
    "id": "Fzisu6Iih1wY"
   },
   "outputs": [],
   "source": [
    "# realiza a conversão do response para um formato acessível ao python\n",
    "json_data = json.loads(result.text)"
   ]
  },
  {
   "cell_type": "code",
   "execution_count": 65,
   "metadata": {
    "colab": {
     "base_uri": "https://localhost:8080/"
    },
    "id": "Fq6CjuEINbZs",
    "outputId": "d581099d-d747-49e7-9a54-69e10dd97f6e"
   },
   "outputs": [
    {
     "data": {
      "text/plain": [
       "[{'data': '01/01/2000', 'valor': '0.48'},\n",
       " {'data': '01/02/2000', 'valor': '0.44'},\n",
       " {'data': '01/03/2000', 'valor': '0.37'},\n",
       " {'data': '01/04/2000', 'valor': '0.45'},\n",
       " {'data': '01/05/2000', 'valor': '0.35'},\n",
       " {'data': '01/06/2000', 'valor': '0.42'},\n",
       " {'data': '01/07/2000', 'valor': '0.58'},\n",
       " {'data': '01/08/2000', 'valor': '0.58'},\n",
       " {'data': '01/09/2000', 'valor': '0.40'},\n",
       " {'data': '01/10/2000', 'valor': '0.40'},\n",
       " {'data': '01/11/2000', 'valor': '0.30'},\n",
       " {'data': '01/12/2000', 'valor': '0.36'},\n",
       " {'data': '01/01/2001', 'valor': '0.41'},\n",
       " {'data': '01/02/2001', 'valor': '0.52'},\n",
       " {'data': '01/03/2001', 'valor': '0.57'},\n",
       " {'data': '01/04/2001', 'valor': '0.46'},\n",
       " {'data': '01/05/2001', 'valor': '0.60'},\n",
       " {'data': '01/06/2001', 'valor': '0.73'},\n",
       " {'data': '01/07/2001', 'valor': '0.65'},\n",
       " {'data': '01/08/2001', 'valor': '0.56'},\n",
       " {'data': '01/09/2001', 'valor': '0.57'},\n",
       " {'data': '01/10/2001', 'valor': '0.57'},\n",
       " {'data': '01/11/2001', 'valor': '0.77'},\n",
       " {'data': '01/12/2001', 'valor': '0.78'},\n",
       " {'data': '01/01/2002', 'valor': '0.52'},\n",
       " {'data': '01/02/2002', 'valor': '0.54'},\n",
       " {'data': '01/03/2002', 'valor': '0.58'},\n",
       " {'data': '01/04/2002', 'valor': '0.56'},\n",
       " {'data': '01/05/2002', 'valor': '0.51'},\n",
       " {'data': '01/06/2002', 'valor': '0.40'},\n",
       " {'data': '01/07/2002', 'valor': '0.51'},\n",
       " {'data': '01/08/2002', 'valor': '0.65'},\n",
       " {'data': '01/09/2002', 'valor': '0.78'},\n",
       " {'data': '01/10/2002', 'valor': '0.78'},\n",
       " {'data': '01/11/2002', 'valor': '1.32'},\n",
       " {'data': '01/12/2002', 'valor': '1.36'},\n",
       " {'data': '01/01/2003', 'valor': '1.32'},\n",
       " {'data': '01/02/2003', 'valor': '0.93'},\n",
       " {'data': '01/03/2003', 'valor': '1.23'},\n",
       " {'data': '01/04/2003', 'valor': '1.10'},\n",
       " {'data': '01/05/2003', 'valor': '1.00'},\n",
       " {'data': '01/06/2003', 'valor': '0.87'},\n",
       " {'data': '01/07/2003', 'valor': '0.65'},\n",
       " {'data': '01/08/2003', 'valor': '0.58'},\n",
       " {'data': '01/09/2003', 'valor': '0.86'},\n",
       " {'data': '01/10/2003', 'valor': '0.77'},\n",
       " {'data': '01/11/2003', 'valor': '0.56'},\n",
       " {'data': '01/12/2003', 'valor': '0.72'},\n",
       " {'data': '01/01/2004', 'valor': '0.73'},\n",
       " {'data': '01/02/2004', 'valor': '0.48'},\n",
       " {'data': '01/03/2004', 'valor': '0.76'},\n",
       " {'data': '01/04/2004', 'valor': '0.57'},\n",
       " {'data': '01/05/2004', 'valor': '0.59'},\n",
       " {'data': '01/06/2004', 'valor': '0.60'},\n",
       " {'data': '01/07/2004', 'valor': '0.55'},\n",
       " {'data': '01/08/2004', 'valor': '0.55'},\n",
       " {'data': '01/09/2004', 'valor': '0.56'},\n",
       " {'data': '01/10/2004', 'valor': '0.60'},\n",
       " {'data': '01/11/2004', 'valor': '0.62'},\n",
       " {'data': '01/12/2004', 'valor': '0.67'},\n",
       " {'data': '01/01/2005', 'valor': '0.66'},\n",
       " {'data': '01/02/2005', 'valor': '0.60'},\n",
       " {'data': '01/03/2005', 'valor': '0.62'},\n",
       " {'data': '01/04/2005', 'valor': '0.70'},\n",
       " {'data': '01/05/2005', 'valor': '0.65'},\n",
       " {'data': '01/06/2005', 'valor': '0.49'},\n",
       " {'data': '01/07/2005', 'valor': '0.45'},\n",
       " {'data': '01/08/2005', 'valor': '0.36'},\n",
       " {'data': '01/09/2005', 'valor': '0.51'},\n",
       " {'data': '01/10/2005', 'valor': '0.58'},\n",
       " {'data': '01/11/2005', 'valor': '0.51'},\n",
       " {'data': '01/12/2005', 'valor': '0.43'},\n",
       " {'data': '01/01/2006', 'valor': '0.61'},\n",
       " {'data': '01/02/2006', 'valor': '0.49'},\n",
       " {'data': '01/03/2006', 'valor': '0.45'},\n",
       " {'data': '01/04/2006', 'valor': '0.41'},\n",
       " {'data': '01/05/2006', 'valor': '0.47'},\n",
       " {'data': '01/06/2006', 'valor': '0.30'},\n",
       " {'data': '01/07/2006', 'valor': '0.29'},\n",
       " {'data': '01/08/2006', 'valor': '0.23'},\n",
       " {'data': '01/09/2006', 'valor': '0.32'},\n",
       " {'data': '01/10/2006', 'valor': '0.32'},\n",
       " {'data': '01/11/2006', 'valor': '0.27'},\n",
       " {'data': '01/12/2006', 'valor': '0.38'},\n",
       " {'data': '01/01/2007', 'valor': '0.39'},\n",
       " {'data': '01/02/2007', 'valor': '0.24'},\n",
       " {'data': '01/03/2007', 'valor': '0.29'},\n",
       " {'data': '01/04/2007', 'valor': '0.29'},\n",
       " {'data': '01/05/2007', 'valor': '0.30'},\n",
       " {'data': '01/06/2007', 'valor': '0.34'},\n",
       " {'data': '01/07/2007', 'valor': '0.20'},\n",
       " {'data': '01/08/2007', 'valor': '0.40'},\n",
       " {'data': '01/09/2007', 'valor': '0.34'},\n",
       " {'data': '01/10/2007', 'valor': '0.43'},\n",
       " {'data': '01/11/2007', 'valor': '0.36'},\n",
       " {'data': '01/12/2007', 'valor': '0.40'},\n",
       " {'data': '01/01/2008', 'valor': '0.37'},\n",
       " {'data': '01/02/2008', 'valor': '0.27'},\n",
       " {'data': '01/03/2008', 'valor': '0.39'},\n",
       " {'data': '01/04/2008', 'valor': '0.48'},\n",
       " {'data': '01/05/2008', 'valor': '0.50'},\n",
       " {'data': '01/06/2008', 'valor': '0.49'},\n",
       " {'data': '01/07/2008', 'valor': '0.36'},\n",
       " {'data': '01/08/2008', 'valor': '0.36'},\n",
       " {'data': '01/09/2008', 'valor': '0.45'},\n",
       " {'data': '01/10/2008', 'valor': '0.37'},\n",
       " {'data': '01/11/2008', 'valor': '0.35'},\n",
       " {'data': '01/12/2008', 'valor': '0.33'},\n",
       " {'data': '01/01/2009', 'valor': '0.42'},\n",
       " {'data': '01/02/2009', 'valor': '0.29'},\n",
       " {'data': '01/03/2009', 'valor': '0.35'},\n",
       " {'data': '01/04/2009', 'valor': '0.35'},\n",
       " {'data': '01/05/2009', 'valor': '0.44'},\n",
       " {'data': '01/06/2009', 'valor': '0.38'},\n",
       " {'data': '01/07/2009', 'valor': '0.30'},\n",
       " {'data': '01/08/2009', 'valor': '0.25'},\n",
       " {'data': '01/09/2009', 'valor': '0.39'},\n",
       " {'data': '01/10/2009', 'valor': '0.31'},\n",
       " {'data': '01/11/2009', 'valor': '0.39'},\n",
       " {'data': '01/12/2009', 'valor': '0.42'},\n",
       " {'data': '01/01/2010', 'valor': '0.48'},\n",
       " {'data': '01/02/2010', 'valor': '0.39'},\n",
       " {'data': '01/03/2010', 'valor': '0.46'},\n",
       " {'data': '01/04/2010', 'valor': '0.50'},\n",
       " {'data': '01/05/2010', 'valor': '0.62'},\n",
       " {'data': '01/06/2010', 'valor': '0.40'},\n",
       " {'data': '01/07/2010', 'valor': '0.25'},\n",
       " {'data': '01/08/2010', 'valor': '0.33'},\n",
       " {'data': '01/09/2010', 'valor': '0.43'},\n",
       " {'data': '01/10/2010', 'valor': '0.55'},\n",
       " {'data': '01/11/2010', 'valor': '0.56'},\n",
       " {'data': '01/12/2010', 'valor': '0.52'},\n",
       " {'data': '01/01/2011', 'valor': '0.54'},\n",
       " {'data': '01/02/2011', 'valor': '0.40'},\n",
       " {'data': '01/03/2011', 'valor': '0.49'},\n",
       " {'data': '01/04/2011', 'valor': '0.60'},\n",
       " {'data': '01/05/2011', 'valor': '0.64'},\n",
       " {'data': '01/06/2011', 'valor': '0.54'},\n",
       " {'data': '01/07/2011', 'valor': '0.41'},\n",
       " {'data': '01/08/2011', 'valor': '0.55'},\n",
       " {'data': '01/09/2011', 'valor': '0.58'},\n",
       " {'data': '01/10/2011', 'valor': '0.59'},\n",
       " {'data': '01/11/2011', 'valor': '0.55'},\n",
       " {'data': '01/12/2011', 'valor': '0.58'},\n",
       " {'data': '01/01/2012', 'valor': '0.47'},\n",
       " {'data': '01/02/2012', 'valor': '0.41'},\n",
       " {'data': '01/03/2012', 'valor': '0.28'},\n",
       " {'data': '01/04/2012', 'valor': '0.51'},\n",
       " {'data': '01/05/2012', 'valor': '0.45'},\n",
       " {'data': '01/06/2012', 'valor': '0.39'},\n",
       " {'data': '01/07/2012', 'valor': '0.40'},\n",
       " {'data': '01/08/2012', 'valor': '0.50'},\n",
       " {'data': '01/09/2012', 'valor': '0.49'},\n",
       " {'data': '01/10/2012', 'valor': '0.54'},\n",
       " {'data': '01/11/2012', 'valor': '0.49'},\n",
       " {'data': '01/12/2012', 'valor': '0.56'},\n",
       " {'data': '01/01/2013', 'valor': '0.73'},\n",
       " {'data': '01/02/2013', 'valor': '0.53'},\n",
       " {'data': '01/03/2013', 'valor': '0.47'},\n",
       " {'data': '01/04/2013', 'valor': '0.53'},\n",
       " {'data': '01/05/2013', 'valor': '0.52'},\n",
       " {'data': '01/06/2013', 'valor': '0.36'},\n",
       " {'data': '01/07/2013', 'valor': '0.29'},\n",
       " {'data': '01/08/2013', 'valor': '0.42'},\n",
       " {'data': '01/09/2013', 'valor': '0.43'},\n",
       " {'data': '01/10/2013', 'valor': '0.58'},\n",
       " {'data': '01/11/2013', 'valor': '0.45'},\n",
       " {'data': '01/12/2013', 'valor': '0.58'},\n",
       " {'data': '01/01/2014', 'valor': '0.55'},\n",
       " {'data': '01/02/2014', 'valor': '0.51'},\n",
       " {'data': '01/03/2014', 'valor': '0.59'},\n",
       " {'data': '01/04/2014', 'valor': '0.56'},\n",
       " {'data': '01/05/2014', 'valor': '0.64'},\n",
       " {'data': '01/06/2014', 'valor': '0.56'},\n",
       " {'data': '01/07/2014', 'valor': '0.35'},\n",
       " {'data': '01/08/2014', 'valor': '0.40'},\n",
       " {'data': '01/09/2014', 'valor': '0.54'},\n",
       " {'data': '01/10/2014', 'valor': '0.51'},\n",
       " {'data': '01/11/2014', 'valor': '0.38'},\n",
       " {'data': '01/12/2014', 'valor': '0.49'},\n",
       " {'data': '01/01/2015', 'valor': '0.74'},\n",
       " {'data': '01/02/2015', 'valor': '0.77'},\n",
       " {'data': '01/03/2015', 'valor': '0.76'},\n",
       " {'data': '01/04/2015', 'valor': '0.72'},\n",
       " {'data': '01/05/2015', 'valor': '0.75'},\n",
       " {'data': '01/06/2015', 'valor': '0.72'},\n",
       " {'data': '01/07/2015', 'valor': '0.67'},\n",
       " {'data': '01/08/2015', 'valor': '0.56'},\n",
       " {'data': '01/09/2015', 'valor': '0.64'},\n",
       " {'data': '01/10/2015', 'valor': '0.66'},\n",
       " {'data': '01/11/2015', 'valor': '0.75'},\n",
       " {'data': '01/12/2015', 'valor': '0.79'},\n",
       " {'data': '01/01/2016', 'valor': '0.84'},\n",
       " {'data': '01/02/2016', 'valor': '0.73'},\n",
       " {'data': '01/03/2016', 'valor': '0.61'},\n",
       " {'data': '01/04/2016', 'valor': '0.67'},\n",
       " {'data': '01/05/2016', 'valor': '0.73'},\n",
       " {'data': '01/06/2016', 'valor': '0.59'},\n",
       " {'data': '01/07/2016', 'valor': '0.51'},\n",
       " {'data': '01/08/2016', 'valor': '0.55'},\n",
       " {'data': '01/09/2016', 'valor': '0.34'},\n",
       " {'data': '01/10/2016', 'valor': '0.40'},\n",
       " {'data': '01/11/2016', 'valor': '0.39'},\n",
       " {'data': '01/12/2016', 'valor': '0.37'}]"
      ]
     },
     "execution_count": 65,
     "metadata": {},
     "output_type": "execute_result"
    }
   ],
   "source": [
    "json_data"
   ]
  },
  {
   "cell_type": "code",
   "execution_count": 66,
   "metadata": {
    "colab": {
     "base_uri": "https://localhost:8080/"
    },
    "id": "IayTKGdiiDtN",
    "outputId": "298382d2-9840-4874-f623-c874f5c4a1bf"
   },
   "outputs": [
    {
     "name": "stdout",
     "output_type": "stream",
     "text": [
      "{'data': '01/01/2000', 'valor': '0.48'}\n"
     ]
    }
   ],
   "source": [
    "# imprime na tela o valor do primeiro ano do censo - demonstração de navegação\n",
    "print(json_data[0])"
   ]
  },
  {
   "cell_type": "code",
   "execution_count": 67,
   "metadata": {
    "colab": {
     "base_uri": "https://localhost:8080/",
     "height": 328
    },
    "id": "wrJD_QiC7ECQ",
    "outputId": "e429a63b-159e-4447-8b31-04406cb1098d"
   },
   "outputs": [],
   "source": [
    "df = pd.DataFrame(json_data)"
   ]
  },
  {
   "cell_type": "code",
   "execution_count": 68,
   "metadata": {},
   "outputs": [],
   "source": [
    "#df['data'] = pd.to_datetime(df.data)\n",
    "df['valor'] = df.valor.astype(float)"
   ]
  },
  {
   "cell_type": "code",
   "execution_count": 69,
   "metadata": {},
   "outputs": [
    {
     "data": {
      "text/html": [
       "<div>\n",
       "<style scoped>\n",
       "    .dataframe tbody tr th:only-of-type {\n",
       "        vertical-align: middle;\n",
       "    }\n",
       "\n",
       "    .dataframe tbody tr th {\n",
       "        vertical-align: top;\n",
       "    }\n",
       "\n",
       "    .dataframe thead th {\n",
       "        text-align: right;\n",
       "    }\n",
       "</style>\n",
       "<table border=\"1\" class=\"dataframe\">\n",
       "  <thead>\n",
       "    <tr style=\"text-align: right;\">\n",
       "      <th></th>\n",
       "      <th>data</th>\n",
       "      <th>valor</th>\n",
       "    </tr>\n",
       "  </thead>\n",
       "  <tbody>\n",
       "    <tr>\n",
       "      <th>0</th>\n",
       "      <td>01/01/2000</td>\n",
       "      <td>0.48</td>\n",
       "    </tr>\n",
       "    <tr>\n",
       "      <th>1</th>\n",
       "      <td>01/02/2000</td>\n",
       "      <td>0.44</td>\n",
       "    </tr>\n",
       "    <tr>\n",
       "      <th>2</th>\n",
       "      <td>01/03/2000</td>\n",
       "      <td>0.37</td>\n",
       "    </tr>\n",
       "    <tr>\n",
       "      <th>3</th>\n",
       "      <td>01/04/2000</td>\n",
       "      <td>0.45</td>\n",
       "    </tr>\n",
       "    <tr>\n",
       "      <th>4</th>\n",
       "      <td>01/05/2000</td>\n",
       "      <td>0.35</td>\n",
       "    </tr>\n",
       "  </tbody>\n",
       "</table>\n",
       "</div>"
      ],
      "text/plain": [
       "         data  valor\n",
       "0  01/01/2000   0.48\n",
       "1  01/02/2000   0.44\n",
       "2  01/03/2000   0.37\n",
       "3  01/04/2000   0.45\n",
       "4  01/05/2000   0.35"
      ]
     },
     "execution_count": 69,
     "metadata": {},
     "output_type": "execute_result"
    }
   ],
   "source": [
    "df.head()"
   ]
  },
  {
   "cell_type": "code",
   "execution_count": 71,
   "metadata": {},
   "outputs": [
    {
     "name": "stdout",
     "output_type": "stream",
     "text": [
      "<class 'pandas.core.frame.DataFrame'>\n",
      "RangeIndex: 204 entries, 0 to 203\n",
      "Data columns (total 2 columns):\n",
      " #   Column  Non-Null Count  Dtype  \n",
      "---  ------  --------------  -----  \n",
      " 0   data    204 non-null    object \n",
      " 1   valor   204 non-null    float64\n",
      "dtypes: float64(1), object(1)\n",
      "memory usage: 3.3+ KB\n"
     ]
    },
    {
     "data": {
      "text/plain": [
       "(204, 2)"
      ]
     },
     "execution_count": 71,
     "metadata": {},
     "output_type": "execute_result"
    }
   ],
   "source": [
    "df.info()\n",
    "df.shape"
   ]
  },
  {
   "cell_type": "code",
   "execution_count": 72,
   "metadata": {
    "scrolled": false
   },
   "outputs": [
    {
     "data": {
      "image/png": "[encoded data removed]",
      "text/plain": [
       "<Figure size 432x288 with 1 Axes>"
      ]
     },
     "metadata": {
      "needs_background": "light"
     },
     "output_type": "display_data"
    }
   ],
   "source": [
    "df.plot.line(y = 'valor', x = 'data', rot=90, title = 'Variação do IPCA');\n"
   ]
  }
 ],
 "metadata": {
  "colab": {
   "collapsed_sections": [],
   "name": "Coleta de Dados API.ipynb",
   "provenance": []
  },
  "kernelspec": {
   "display_name": "Python 3",
   "language": "python",
   "name": "python3"
  },
  "language_info": {
   "codemirror_mode": {
    "name": "ipython",
    "version": 3
   },
   "file_extension": ".py",
   "mimetype": "text/x-python",
   "name": "python",
   "nbconvert_exporter": "python",
   "pygments_lexer": "ipython3",
   "version": "3.8.8"
  }
 },
 "nbformat": 4,
 "nbformat_minor": 1
}
